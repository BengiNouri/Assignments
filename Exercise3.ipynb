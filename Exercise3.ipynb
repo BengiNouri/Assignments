{
  "cells": [
    {
      "cell_type": "markdown",
      "metadata": {
        "colab_type": "text",
        "id": "view-in-github"
      },
      "source": [
        "<a href=\"https://colab.research.google.com/github/BengiNouri/ML2/blob/main/ML4BI_E3.ipynb\" target=\"_parent\"><img src=\"https://colab.research.google.com/assets/colab-badge.svg\" alt=\"Open In Colab\"/></a>"
      ]
    },
    {
      "cell_type": "markdown",
      "metadata": {
        "id": "LhmlWPq36NGe"
      },
      "source": [
        "# Machine Learning for BI 2\n",
        "\n",
        "## Deep Learning exercises for week 3"
      ]
    },
    {
      "cell_type": "markdown",
      "metadata": {
        "id": "R86GoAnuNAul"
      },
      "source": [
        "In this exercise, you'll practice on the examples we went through during the lectures."
      ]
    },
    {
      "cell_type": "markdown",
      "metadata": {
        "id": "v7dKmBcUOCM1"
      },
      "source": [
        "Try one or more!\n",
        "\n",
        "1. You used two representation layers before the final classification layer. Try using one or three representation layers, and see how doing so affects validation and test accuracy\n",
        "\n",
        "2. Try using layers with more units or fewer units: 32 units, 64 units, and so on."
      ]
    },
    {
      "cell_type": "markdown",
      "metadata": {
        "id": "s95akDzCSbJa"
      },
      "source": [
        "**Loading the IMDB dataset**"
      ]
    },
    {
      "cell_type": "code",
      "execution_count": 1,
      "metadata": {
        "id": "fKX6saifMo5c"
      },
      "outputs": [
        {
          "name": "stdout",
          "output_type": "stream",
          "text": [
            "WARNING:tensorflow:From c:\\Users\\sajad\\AppData\\Local\\Programs\\Python\\Python39\\lib\\site-packages\\keras\\src\\losses.py:2976: The name tf.losses.sparse_softmax_cross_entropy is deprecated. Please use tf.compat.v1.losses.sparse_softmax_cross_entropy instead.\n",
            "\n",
            "Downloading data from https://storage.googleapis.com/tensorflow/tf-keras-datasets/imdb.npz\n",
            "17464789/17464789 [==============================] - 2s 0us/step\n"
          ]
        }
      ],
      "source": [
        "from tensorflow.keras.datasets import imdb\n",
        "(train_data, train_labels), (test_data, test_labels) = imdb.load_data(\n",
        "    num_words=10000)"
      ]
    },
    {
      "cell_type": "markdown",
      "metadata": {
        "id": "yfMqtfUAUQJo"
      },
      "source": [
        "**Encoding the integer sequences via multi-hot encoding**"
      ]
    },
    {
      "cell_type": "code",
      "execution_count": 2,
      "metadata": {
        "id": "BLa2zDaFUQgm"
      },
      "outputs": [],
      "source": [
        "import numpy as np\n",
        "def vectorize_sequences(sequences, dimension=10000):\n",
        "    results = np.zeros((len(sequences), dimension))\n",
        "    for i, sequence in enumerate(sequences):\n",
        "        for j in sequence:\n",
        "            results[i, j] = 1.\n",
        "    return results\n",
        "x_train = vectorize_sequences(train_data)\n",
        "x_test = vectorize_sequences(test_data)"
      ]
    },
    {
      "cell_type": "code",
      "execution_count": 3,
      "metadata": {
        "id": "ckbX-s7FUT1v"
      },
      "outputs": [],
      "source": [
        "y_train = np.asarray(train_labels).astype(\"float32\")\n",
        "y_test = np.asarray(test_labels).astype(\"float32\")"
      ]
    },
    {
      "cell_type": "markdown",
      "metadata": {
        "id": "lSoAPMlmUW2n"
      },
      "source": [
        "### Building your model"
      ]
    },
    {
      "cell_type": "code",
      "execution_count": 4,
      "metadata": {
        "id": "rsGTgLKyUZRC"
      },
      "outputs": [
        {
          "name": "stdout",
          "output_type": "stream",
          "text": [
            "WARNING:tensorflow:From c:\\Users\\sajad\\AppData\\Local\\Programs\\Python\\Python39\\lib\\site-packages\\keras\\src\\backend.py:873: The name tf.get_default_graph is deprecated. Please use tf.compat.v1.get_default_graph instead.\n",
            "\n"
          ]
        }
      ],
      "source": [
        "from tensorflow import keras\n",
        "from tensorflow.keras import layers\n",
        "\n",
        "model = keras.Sequential([\n",
        "layers.Dense(16, activation=\"relu\"),\n",
        "layers.Dense(16, activation=\"relu\"),\n",
        "layers.Dense(1, activation=\"sigmoid\")\n",
        "])"
      ]
    },
    {
      "cell_type": "code",
      "execution_count": 5,
      "metadata": {
        "id": "kgoR_a2lUeIG"
      },
      "outputs": [
        {
          "name": "stdout",
          "output_type": "stream",
          "text": [
            "WARNING:tensorflow:From c:\\Users\\sajad\\AppData\\Local\\Programs\\Python\\Python39\\lib\\site-packages\\keras\\src\\optimizers\\__init__.py:309: The name tf.train.Optimizer is deprecated. Please use tf.compat.v1.train.Optimizer instead.\n",
            "\n"
          ]
        }
      ],
      "source": [
        "model.compile(optimizer=\"rmsprop\",\n",
        "              loss=\"binary_crossentropy\",\n",
        "              metrics=[\"accuracy\"])"
      ]
    },
    {
      "cell_type": "code",
      "execution_count": 6,
      "metadata": {
        "id": "anTsCN17Uf3Q"
      },
      "outputs": [],
      "source": [
        "x_val = x_train[:10000]\n",
        "partial_x_train = x_train[10000:]\n",
        "y_val = y_train[:10000]\n",
        "partial_y_train = y_train[10000:]"
      ]
    },
    {
      "cell_type": "code",
      "execution_count": 7,
      "metadata": {
        "id": "pES45acbUh4m"
      },
      "outputs": [
        {
          "name": "stdout",
          "output_type": "stream",
          "text": [
            "WARNING:tensorflow:From c:\\Users\\sajad\\AppData\\Local\\Programs\\Python\\Python39\\lib\\site-packages\\keras\\src\\utils\\tf_utils.py:492: The name tf.ragged.RaggedTensorValue is deprecated. Please use tf.compat.v1.ragged.RaggedTensorValue instead.\n",
            "\n",
            "WARNING:tensorflow:From c:\\Users\\sajad\\AppData\\Local\\Programs\\Python\\Python39\\lib\\site-packages\\keras\\src\\engine\\base_layer_utils.py:384: The name tf.executing_eagerly_outside_functions is deprecated. Please use tf.compat.v1.executing_eagerly_outside_functions instead.\n",
            "\n"
          ]
        }
      ],
      "source": [
        "history = model.fit(partial_x_train,\n",
        "                    partial_y_train,\n",
        "                    epochs=20,\n",
        "                    batch_size=512,\n",
        "                    validation_data=(x_val, y_val),\n",
        "                    verbose=0)"
      ]
    },
    {
      "cell_type": "code",
      "execution_count": 8,
      "metadata": {
        "id": "yavnxHdEUoH1"
      },
      "outputs": [
        {
          "data": {
            "image/png": "[encoded data removed]",
            "text/plain": [
              "<Figure size 640x480 with 1 Axes>"
            ]
          },
          "metadata": {},
          "output_type": "display_data"
        }
      ],
      "source": [
        "import matplotlib.pyplot as plt\n",
        "history_dict = history.history\n",
        "loss_values = history_dict[\"loss\"]\n",
        "val_loss_values = history_dict[\"val_loss\"]\n",
        "epochs = range(1, len(loss_values) + 1)\n",
        "plt.plot(epochs, loss_values, \"bo\", label=\"Training loss\")\n",
        "plt.plot(epochs, val_loss_values, \"b\", label=\"Validation loss\")\n",
        "plt.title(\"Training and validation loss\")\n",
        "plt.xlabel(\"Epochs\")\n",
        "plt.ylabel(\"Loss\")\n",
        "plt.legend()\n",
        "plt.show()"
      ]
    },
    {
      "cell_type": "markdown",
      "metadata": {
        "id": "9buo88f1pceh"
      },
      "source": [
        "## Newswire\n",
        "\n",
        "### Information bottleneck\n",
        "\n",
        "Try creating an information bottleneck in your architecture. For example, you can this by using 64 neurons in the first layer and 4 neurons in the second."
      ]
    },
    {
      "cell_type": "markdown",
      "metadata": {
        "id": "AjIlKGJ_zGXw"
      },
      "source": [
        "Try different types of configurations and see how the validation loss or accuracy curve is affected. Write a function that allows to change the number of neurons in each layer and then make a joint plot of all the curves afterwards.\n",
        "\n",
        "I have copied in the data loading and labels encoding steps from the course notebook to help you get started."
      ]
    },
    {
      "cell_type": "markdown",
      "metadata": {
        "id": "LgNB9yPHpxT2"
      },
      "source": [
        "**Loading the Reuters dataset**"
      ]
    },
    {
      "cell_type": "code",
      "execution_count": 9,
      "metadata": {
        "colab": {
          "base_uri": "https://localhost:8080/"
        },
        "id": "d0YuXAD9pp9D",
        "outputId": "1eb8faec-d60f-421e-bbd2-b54a0e4980e6"
      },
      "outputs": [
        {
          "name": "stdout",
          "output_type": "stream",
          "text": [
            "Downloading data from https://storage.googleapis.com/tensorflow/tf-keras-datasets/reuters.npz\n",
            "2110848/2110848 [==============================] - 0s 0us/step\n"
          ]
        }
      ],
      "source": [
        "from tensorflow.keras.datasets import reuters\n",
        "(train_data, train_labels), (test_data, test_labels) = reuters.load_data(\n",
        "    num_words=10000)"
      ]
    },
    {
      "cell_type": "markdown",
      "metadata": {
        "id": "U-IbS0Zqpzn5"
      },
      "source": [
        "**Decoding newswires back to text**"
      ]
    },
    {
      "cell_type": "code",
      "execution_count": 10,
      "metadata": {
        "id": "dUHd6Mk9pqmA"
      },
      "outputs": [],
      "source": [
        "x_train = vectorize_sequences(train_data)\n",
        "x_test = vectorize_sequences(test_data)"
      ]
    },
    {
      "cell_type": "markdown",
      "metadata": {
        "id": "32W0i45mp28C"
      },
      "source": [
        "**Encoding the labels**"
      ]
    },
    {
      "cell_type": "code",
      "execution_count": 11,
      "metadata": {
        "id": "v_c6rvCgp3c6"
      },
      "outputs": [],
      "source": [
        "def to_one_hot(labels, dimension=46):\n",
        "    results = np.zeros((len(labels), dimension))\n",
        "    for i, label in enumerate(labels):\n",
        "        results[i, label] = 1.\n",
        "    return results\n",
        "y_train = to_one_hot(train_labels)\n",
        "y_test = to_one_hot(test_labels)"
      ]
    },
    {
      "cell_type": "code",
      "execution_count": 13,
      "metadata": {
        "id": "fyZj5nvHp6ay"
      },
      "outputs": [],
      "source": [
        "from tensorflow.keras.utils import to_categorical\n",
        "y_train = to_categorical(train_labels)\n",
        "y_test = to_categorical(test_labels)"
      ]
    },
    {
      "cell_type": "markdown",
      "metadata": {
        "id": "XTmxLsNVqhXt"
      },
      "source": [
        "**Setting aside a validation set**"
      ]
    },
    {
      "cell_type": "code",
      "execution_count": 18,
      "metadata": {
        "id": "JEljXdrPqgRD"
      },
      "outputs": [],
      "source": [
        "x_val = x_train[:1000]\n",
        "partial_x_train = x_train[1000:]\n",
        "y_val = y_train[:1000]\n",
        "partial_y_train = y_train[1000:]"
      ]
    },
    {
      "cell_type": "markdown",
      "metadata": {
        "id": "YupIj34PqKg9"
      },
      "source": [
        "### Building your model"
      ]
    },
    {
      "cell_type": "code",
      "execution_count": 19,
      "metadata": {
        "id": "BOw-wG4w6lUt"
      },
      "outputs": [],
      "source": [
        "##YOUR C\n",
        "model = keras.Sequential([\n",
        "layers.Dense(64, activation=\"relu\"),\n",
        "layers.Dense(64, activation=\"relu\"),\n",
        "layers.Dense(46, activation=\"softmax\")\n",
        "])"
      ]
    },
    {
      "cell_type": "code",
      "execution_count": 22,
      "metadata": {},
      "outputs": [],
      "source": [
        "model.compile(optimizer=\"rmsprop\",\n",
        "loss=\"categorical_crossentropy\",\n",
        "metrics=[\"accuracy\"])"
      ]
    },
    {
      "cell_type": "code",
      "execution_count": 23,
      "metadata": {},
      "outputs": [],
      "source": [
        "x_val = x_train[:1000]\n",
        "partial_x_train = x_train[1000:]\n",
        "y_val = y_train[:1000]\n",
        "partial_y_train = y_train[1000:]"
      ]
    },
    {
      "cell_type": "code",
      "execution_count": 24,
      "metadata": {},
      "outputs": [
        {
          "name": "stdout",
          "output_type": "stream",
          "text": [
            "Epoch 1/20\n",
            "16/16 [==============================] - 2s 56ms/step - loss: 2.7235 - accuracy: 0.5008 - val_loss: 1.8173 - val_accuracy: 0.6240\n",
            "Epoch 2/20\n",
            "16/16 [==============================] - 0s 26ms/step - loss: 1.5081 - accuracy: 0.6874 - val_loss: 1.3562 - val_accuracy: 0.6900\n",
            "Epoch 3/20\n",
            "16/16 [==============================] - 0s 30ms/step - loss: 1.1461 - accuracy: 0.7497 - val_loss: 1.1829 - val_accuracy: 0.7270\n",
            "Epoch 4/20\n",
            "16/16 [==============================] - 0s 27ms/step - loss: 0.9367 - accuracy: 0.7998 - val_loss: 1.0901 - val_accuracy: 0.7580\n",
            "Epoch 5/20\n",
            "16/16 [==============================] - 0s 29ms/step - loss: 0.7807 - accuracy: 0.8261 - val_loss: 0.9936 - val_accuracy: 0.7880\n",
            "Epoch 6/20\n",
            "16/16 [==============================] - 0s 28ms/step - loss: 0.6529 - accuracy: 0.8574 - val_loss: 0.9486 - val_accuracy: 0.8070\n",
            "Epoch 7/20\n",
            "16/16 [==============================] - 0s 29ms/step - loss: 0.5462 - accuracy: 0.8811 - val_loss: 0.9173 - val_accuracy: 0.8090\n",
            "Epoch 8/20\n",
            "16/16 [==============================] - 1s 36ms/step - loss: 0.4569 - accuracy: 0.9027 - val_loss: 0.8988 - val_accuracy: 0.8010\n",
            "Epoch 9/20\n",
            "16/16 [==============================] - 0s 30ms/step - loss: 0.3871 - accuracy: 0.9166 - val_loss: 0.8814 - val_accuracy: 0.8150\n",
            "Epoch 10/20\n",
            "16/16 [==============================] - 0s 31ms/step - loss: 0.3312 - accuracy: 0.9281 - val_loss: 0.8837 - val_accuracy: 0.8180\n",
            "Epoch 11/20\n",
            "16/16 [==============================] - 0s 28ms/step - loss: 0.2847 - accuracy: 0.9370 - val_loss: 0.8863 - val_accuracy: 0.8090\n",
            "Epoch 12/20\n",
            "16/16 [==============================] - 0s 26ms/step - loss: 0.2532 - accuracy: 0.9434 - val_loss: 0.9120 - val_accuracy: 0.8120\n",
            "Epoch 13/20\n",
            "16/16 [==============================] - 0s 26ms/step - loss: 0.2257 - accuracy: 0.9474 - val_loss: 0.8920 - val_accuracy: 0.8200\n",
            "Epoch 14/20\n",
            "16/16 [==============================] - 0s 27ms/step - loss: 0.2014 - accuracy: 0.9503 - val_loss: 0.8968 - val_accuracy: 0.8180\n",
            "Epoch 15/20\n",
            "16/16 [==============================] - 0s 26ms/step - loss: 0.1852 - accuracy: 0.9504 - val_loss: 0.9417 - val_accuracy: 0.8000\n",
            "Epoch 16/20\n",
            "16/16 [==============================] - 0s 28ms/step - loss: 0.1729 - accuracy: 0.9531 - val_loss: 0.9206 - val_accuracy: 0.8100\n",
            "Epoch 17/20\n",
            "16/16 [==============================] - 0s 29ms/step - loss: 0.1579 - accuracy: 0.9549 - val_loss: 0.9339 - val_accuracy: 0.8190\n",
            "Epoch 18/20\n",
            "16/16 [==============================] - 0s 30ms/step - loss: 0.1511 - accuracy: 0.9551 - val_loss: 0.9572 - val_accuracy: 0.8100\n",
            "Epoch 19/20\n",
            "16/16 [==============================] - 1s 33ms/step - loss: 0.1431 - accuracy: 0.9567 - val_loss: 0.9295 - val_accuracy: 0.8100\n",
            "Epoch 20/20\n",
            "16/16 [==============================] - 0s 25ms/step - loss: 0.1327 - accuracy: 0.9580 - val_loss: 0.9818 - val_accuracy: 0.8090\n"
          ]
        }
      ],
      "source": [
        "history = model.fit(partial_x_train,\n",
        "partial_y_train,\n",
        "epochs=20,\n",
        "batch_size=512,\n",
        "validation_data=(x_val, y_val))"
      ]
    },
    {
      "cell_type": "code",
      "execution_count": 25,
      "metadata": {},
      "outputs": [
        {
          "data": {
            "image/png": "[encoded data removed]",
            "text/plain": [
              "<Figure size 640x480 with 1 Axes>"
            ]
          },
          "metadata": {},
          "output_type": "display_data"
        }
      ],
      "source": [
        "loss = history.history[\"loss\"]\n",
        "val_loss = history.history[\"val_loss\"]\n",
        "epochs = range(1, len(loss) + 1)\n",
        "plt.plot(epochs, loss, \"bo\", label=\"Training loss\")\n",
        "plt.plot(epochs, val_loss, \"b\", label=\"Validation loss\")\n",
        "plt.title(\"Training and validation loss\")\n",
        "plt.xlabel(\"Epochs\")\n",
        "plt.ylabel(\"Loss\")\n",
        "plt.legend()\n",
        "plt.show()"
      ]
    },
    {
      "cell_type": "code",
      "execution_count": 26,
      "metadata": {},
      "outputs": [
        {
          "data": {
            "image/png": "[encoded data removed]",
            "text/plain": [
              "<Figure size 640x480 with 1 Axes>"
            ]
          },
          "metadata": {},
          "output_type": "display_data"
        }
      ],
      "source": [
        "plt.clf()\n",
        "acc = history.history[\"accuracy\"]\n",
        "val_acc = history.history[\"val_accuracy\"]\n",
        "plt.plot(epochs, acc, \"bo\", label=\"Training accuracy\")\n",
        "plt.plot(epochs, val_acc, \"b\", label=\"Validation accuracy\")\n",
        "plt.title(\"Training and validation accuracy\")\n",
        "plt.xlabel(\"Epochs\")\n",
        "plt.ylabel(\"Accuracy\")\n",
        "plt.legend()\n",
        "plt.show()"
      ]
    },
    {
      "cell_type": "code",
      "execution_count": 27,
      "metadata": {},
      "outputs": [
        {
          "name": "stdout",
          "output_type": "stream",
          "text": [
            "Epoch 1/9\n",
            "18/18 [==============================] - 2s 23ms/step - loss: 2.6632 - accuracy: 0.5218\n",
            "Epoch 2/9\n",
            "18/18 [==============================] - 0s 25ms/step - loss: 1.4725 - accuracy: 0.6872\n",
            "Epoch 3/9\n",
            "18/18 [==============================] - 1s 31ms/step - loss: 1.1185 - accuracy: 0.7542\n",
            "Epoch 4/9\n",
            "18/18 [==============================] - 0s 24ms/step - loss: 0.9048 - accuracy: 0.8007\n",
            "Epoch 5/9\n",
            "18/18 [==============================] - 0s 22ms/step - loss: 0.7393 - accuracy: 0.8377\n",
            "Epoch 6/9\n",
            "18/18 [==============================] - 0s 22ms/step - loss: 0.6142 - accuracy: 0.8662\n",
            "Epoch 7/9\n",
            "18/18 [==============================] - 0s 22ms/step - loss: 0.5151 - accuracy: 0.8909\n",
            "Epoch 8/9\n",
            "18/18 [==============================] - 0s 22ms/step - loss: 0.4277 - accuracy: 0.9094\n",
            "Epoch 9/9\n",
            "18/18 [==============================] - 0s 23ms/step - loss: 0.3606 - accuracy: 0.9216\n",
            "71/71 [==============================] - 1s 4ms/step - loss: 0.9422 - accuracy: 0.7907\n"
          ]
        }
      ],
      "source": [
        "model = keras.Sequential([\n",
        "layers.Dense(64, activation=\"relu\"),\n",
        "layers.Dense(64, activation=\"relu\"),\n",
        "layers.Dense(46, activation=\"softmax\")\n",
        "])\n",
        "model.compile(optimizer=\"rmsprop\",\n",
        "loss=\"categorical_crossentropy\",\n",
        "metrics=[\"accuracy\"])\n",
        "model.fit(x_train,\n",
        "y_train,\n",
        "epochs=9,\n",
        "batch_size=512)\n",
        "results = model.evaluate(x_test, y_test)"
      ]
    },
    {
      "cell_type": "code",
      "execution_count": 28,
      "metadata": {},
      "outputs": [
        {
          "data": {
            "text/plain": [
              "0.19946571682991987"
            ]
          },
          "execution_count": 28,
          "metadata": {},
          "output_type": "execute_result"
        }
      ],
      "source": [
        ">>> import copy\n",
        ">>> test_labels_copy = copy.copy(test_labels)\n",
        ">>> np.random.shuffle(test_labels_copy)\n",
        ">>> hits_array = np.array(test_labels) == np.array(test_labels_copy)\n",
        ">>> hits_array.mean()"
      ]
    },
    {
      "cell_type": "code",
      "execution_count": 29,
      "metadata": {},
      "outputs": [
        {
          "name": "stdout",
          "output_type": "stream",
          "text": [
            "71/71 [==============================] - 0s 4ms/step\n"
          ]
        }
      ],
      "source": [
        "predicitions = model.predict(x_test) # returns a 2D tensor"
      ]
    },
    {
      "cell_type": "code",
      "execution_count": 30,
      "metadata": {},
      "outputs": [
        {
          "data": {
            "text/plain": [
              "(46,)"
            ]
          },
          "execution_count": 30,
          "metadata": {},
          "output_type": "execute_result"
        }
      ],
      "source": [
        "predicitions[0].shape\n",
        "# each entry in predictions is a vector of length 46"
      ]
    },
    {
      "cell_type": "code",
      "execution_count": 31,
      "metadata": {},
      "outputs": [
        {
          "data": {
            "text/plain": [
              "1.0"
            ]
          },
          "execution_count": 31,
          "metadata": {},
          "output_type": "execute_result"
        }
      ],
      "source": [
        "np.sum(predicitions[0]) # the coefficients in this vector sum to 1"
      ]
    },
    {
      "cell_type": "code",
      "execution_count": 32,
      "metadata": {},
      "outputs": [
        {
          "data": {
            "text/plain": [
              "4"
            ]
          },
          "execution_count": 32,
          "metadata": {},
          "output_type": "execute_result"
        }
      ],
      "source": [
        "np.argmax(predicitions[0]) # the largest entry is the predicted class   "
      ]
    },
    {
      "cell_type": "code",
      "execution_count": 33,
      "metadata": {},
      "outputs": [],
      "source": [
        "y_train = np.array(train_labels)\n",
        "y_test = np.array(test_labels)"
      ]
    },
    {
      "cell_type": "code",
      "execution_count": 34,
      "metadata": {},
      "outputs": [],
      "source": [
        "model.compile(optimizer=\"rmsprop\",\n",
        "loss=\"sparse_categorical_crossentropy\",\n",
        "metrics=[\"accuracy\"])"
      ]
    },
    {
      "cell_type": "code",
      "execution_count": 35,
      "metadata": {},
      "outputs": [
        {
          "name": "stdout",
          "output_type": "stream",
          "text": [
            "Epoch 1/20\n",
            "63/63 [==============================] - 4s 33ms/step - loss: 3.2629 - accuracy: 0.0852 - val_loss: 2.6384 - val_accuracy: 0.3130\n",
            "Epoch 2/20\n",
            "63/63 [==============================] - 1s 14ms/step - loss: 2.0634 - accuracy: 0.5829 - val_loss: 1.6618 - val_accuracy: 0.6130\n",
            "Epoch 3/20\n",
            "63/63 [==============================] - 1s 14ms/step - loss: 1.4444 - accuracy: 0.6510 - val_loss: 1.3959 - val_accuracy: 0.6630\n",
            "Epoch 4/20\n",
            "63/63 [==============================] - 1s 17ms/step - loss: 1.2139 - accuracy: 0.7111 - val_loss: 1.2972 - val_accuracy: 0.7000\n",
            "Epoch 5/20\n",
            "63/63 [==============================] - 1s 14ms/step - loss: 1.0751 - accuracy: 0.7572 - val_loss: 1.2510 - val_accuracy: 0.7120\n",
            "Epoch 6/20\n",
            "63/63 [==============================] - 1s 15ms/step - loss: 0.9775 - accuracy: 0.7701 - val_loss: 1.2121 - val_accuracy: 0.7160\n",
            "Epoch 7/20\n",
            "63/63 [==============================] - 1s 14ms/step - loss: 0.9012 - accuracy: 0.7805 - val_loss: 1.2019 - val_accuracy: 0.7210\n",
            "Epoch 8/20\n",
            "63/63 [==============================] - 1s 13ms/step - loss: 0.8378 - accuracy: 0.7962 - val_loss: 1.2314 - val_accuracy: 0.7150\n",
            "Epoch 9/20\n",
            "63/63 [==============================] - 1s 16ms/step - loss: 0.7857 - accuracy: 0.8068 - val_loss: 1.2118 - val_accuracy: 0.7190\n",
            "Epoch 10/20\n",
            "63/63 [==============================] - 1s 14ms/step - loss: 0.7370 - accuracy: 0.8152 - val_loss: 1.2393 - val_accuracy: 0.7230\n",
            "Epoch 11/20\n",
            "63/63 [==============================] - 1s 13ms/step - loss: 0.6962 - accuracy: 0.8202 - val_loss: 1.2946 - val_accuracy: 0.7090\n",
            "Epoch 12/20\n",
            "63/63 [==============================] - 1s 14ms/step - loss: 0.6568 - accuracy: 0.8282 - val_loss: 1.2638 - val_accuracy: 0.7290\n",
            "Epoch 13/20\n",
            "63/63 [==============================] - 1s 14ms/step - loss: 0.6239 - accuracy: 0.8327 - val_loss: 1.3093 - val_accuracy: 0.7210\n",
            "Epoch 14/20\n",
            "63/63 [==============================] - 1s 14ms/step - loss: 0.5938 - accuracy: 0.8378 - val_loss: 1.3213 - val_accuracy: 0.7260\n",
            "Epoch 15/20\n",
            "63/63 [==============================] - 1s 15ms/step - loss: 0.5655 - accuracy: 0.8444 - val_loss: 1.3415 - val_accuracy: 0.7280\n",
            "Epoch 16/20\n",
            "63/63 [==============================] - 1s 14ms/step - loss: 0.5414 - accuracy: 0.8512 - val_loss: 1.3517 - val_accuracy: 0.7270\n",
            "Epoch 17/20\n",
            "63/63 [==============================] - 1s 13ms/step - loss: 0.5162 - accuracy: 0.8576 - val_loss: 1.3899 - val_accuracy: 0.7260\n",
            "Epoch 18/20\n",
            "63/63 [==============================] - 1s 12ms/step - loss: 0.4976 - accuracy: 0.8668 - val_loss: 1.4015 - val_accuracy: 0.7230\n",
            "Epoch 19/20\n",
            "63/63 [==============================] - 1s 14ms/step - loss: 0.4783 - accuracy: 0.8747 - val_loss: 1.4499 - val_accuracy: 0.7230\n",
            "Epoch 20/20\n",
            "63/63 [==============================] - 1s 13ms/step - loss: 0.4600 - accuracy: 0.8772 - val_loss: 1.4958 - val_accuracy: 0.7200\n"
          ]
        },
        {
          "data": {
            "text/plain": [
              "<keras.src.callbacks.History at 0x1f2affbd280>"
            ]
          },
          "execution_count": 35,
          "metadata": {},
          "output_type": "execute_result"
        }
      ],
      "source": [
        "model = keras.Sequential([\n",
        "layers.Dense(64, activation=\"relu\"),\n",
        "layers.Dense(4, activation=\"relu\"),\n",
        "layers.Dense(46, activation=\"softmax\")\n",
        "])\n",
        "model.compile(optimizer=\"rmsprop\",\n",
        "loss=\"categorical_crossentropy\",\n",
        "metrics=[\"accuracy\"])\n",
        "model.fit(partial_x_train,\n",
        "partial_y_train,\n",
        "epochs=20,\n",
        "batch_size=128,\n",
        "validation_data=(x_val, y_val))"
      ]
    },
    {
      "cell_type": "code",
      "execution_count": null,
      "metadata": {},
      "outputs": [],
      "source": []
    }
  ],
  "metadata": {
    "colab": {
      "include_colab_link": true,
      "provenance": []
    },
    "kernelspec": {
      "display_name": "Python 3",
      "name": "python3"
    },
    "language_info": {
      "codemirror_mode": {
        "name": "ipython",
        "version": 3
      },
      "file_extension": ".py",
      "mimetype": "text/x-python",
      "name": "python",
      "nbconvert_exporter": "python",
      "pygments_lexer": "ipython3",
      "version": "3.9.0"
    }
  },
  "nbformat": 4,
  "nbformat_minor": 0
}
